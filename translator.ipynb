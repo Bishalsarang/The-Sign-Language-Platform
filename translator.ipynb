{
 "cells": [
  {
   "cell_type": "markdown",
   "metadata": {},
   "source": [
    "# Translate image to corresponding alphabhet using pre-trained model"
   ]
  },
  {
   "cell_type": "code",
   "execution_count": null,
   "metadata": {},
   "outputs": [],
   "source": [
    "import keras\n",
    "from keras.models import Sequential\n",
    "from keras.layers import Dense, Dropout, Flatten, Conv2D, MaxPooling2D\n",
    "from keras.utils.np_utils import to_categorical\n",
    "from keras.preprocessing import image\n",
    "import numpy as np\n",
    "import pandas as pd\n",
    "from pathlib import Path\n",
    "import matplotlib.pyplot as plt\n",
    "import tensorflow as tf\n",
    "import os\n",
    "import cv2\n",
    "%matplotlib inline\n",
    "\n",
    "\n"
   ]
  },
  {
   "cell_type": "code",
   "execution_count": null,
   "metadata": {},
   "outputs": [],
   "source": [
    "IMAGE_SIZE = 50 #We'll be workign with 50 * 50 pixel images\n",
    "LABELS = [chr(c) for c in range(ord('A'), ord('Z') + 1)]\n",
    "LABELS.append(\"nothing\")\n",
    "LABELS.append(\"space\")\n",
    "\n",
    "MODEL_PATH = \"trained_model\\my_model.h5\""
   ]
  },
  {
   "cell_type": "code",
   "execution_count": null,
   "metadata": {},
   "outputs": [],
   "source": [
    "from keras.models import load_model\n",
    "model = load_model(MODEL_PATH)"
   ]
  },
  {
   "cell_type": "code",
   "execution_count": null,
   "metadata": {},
   "outputs": [],
   "source": [
    "model.summary()"
   ]
  },
  {
   "cell_type": "code",
   "execution_count": null,
   "metadata": {},
   "outputs": [],
   "source": [
    "IMG_PATH = \"confirm/E_test.jpg\"\n",
    "\n",
    "def preprocess_image(IMG_PATH):\n",
    "    \"\"\"returns image array by preprocessing the image\n",
    "    Keyword arguments:\n",
    "    IMG_PATH: path of the image\n",
    "    Example: img_array = preprocess_image(\"a.jpg\")\n",
    "    \"\"\"\n",
    "    try:\n",
    "        #Load image with target size and convert img to array\n",
    "        img = image.load_img(IMG_PATH, target_size = (IMAGE_SIZE,IMAGE_SIZE))\n",
    "        img_array = image.img_to_array(img)\n",
    "        \n",
    "        #Change color sapce to gray\n",
    "        img_array = cv2.cvtColor(img_array, cv2.COLOR_BGR2GRAY)\n",
    "\n",
    "        #Reshape array to l * w * channels\n",
    "        img_array = img_array.reshape(IMAGE_SIZE, IMAGE_SIZE, 1)\n",
    "        \n",
    "        #Normalize th array\n",
    "        img_array /= 225.0\n",
    "        \n",
    "        #Expand Dimension of the array as our model expects a 4D array\n",
    "        img_array = np.expand_dims(img_array, axis = 0)\n",
    "        return img_array\n",
    "        \n",
    "    except Exception as e:\n",
    "        print(e)\n",
    "        return None\n",
    "    \n",
    "\n",
    "def which_letter(IMG_PATH):\n",
    "    \"\"\"returns predicted label using the model or None if exception occurs\n",
    "    Keyword arguments:\n",
    "    IMG_PATH: path of the image\n",
    "    eg:\n",
    "        print(which_letter(\"sample.jpeg\"))\n",
    "    \"\"\"\n",
    "    try:\n",
    "        img_array = preprocess_image(IMG_PATH)\n",
    "        preds = model.predict(img_array)\n",
    "        most_likely_class_index = int(np.argmax(preds))\n",
    "        return LABELS[most_likely_class_index]\n",
    "    except Exception as e:\n",
    "        print(e)\n",
    "        return None\n",
    "    \n",
    "\n",
    "def which_letter_1(IMG_PATH):\n",
    "    img_array = cv2.imread(IMG_PATH)\n",
    "    img_array = cv2.cvtColor(img_array, cv2.COLOR_BGR2GRAY)\n",
    "    new_img_array = cv2.resize(img_array, (IMAGE_SIZE, IMAGE_SIZE))\n",
    "    \n",
    "    plt.imshow(new_img_array)\n",
    "    new_img_array = new_img_array / 225\n",
    "    new_img_array = new_img_array.reshape(IMAGE_SIZE, IMAGE_SIZE, 1)\n",
    "   # new_img_array /= 225\n",
    "    list_of_images = np.expand_dims(new_img_array, axis = 0)\n",
    "    results = model.predict(list_of_images)\n",
    "    single_result = results[0]\n",
    "    most_likely_class_index = int(np.argmax(single_result))\n",
    "    class_likely_hood = single_result[most_likely_class_index]\n",
    "    return LABELS[most_likely_class_index]\n",
    "\n",
    "result,  result1= which_letter(IMG_PATH), which_letter_1(IMG_PATH)\n",
    "if result:\n",
    "    print(result)\n",
    "    print(result1)\n"
   ]
  },
  {
   "cell_type": "code",
   "execution_count": null,
   "metadata": {},
   "outputs": [],
   "source": []
  },
  {
   "cell_type": "code",
   "execution_count": null,
   "metadata": {},
   "outputs": [],
   "source": []
  }
 ],
 "metadata": {
  "kernelspec": {
   "display_name": "Python 3",
   "language": "python",
   "name": "python3"
  },
  "language_info": {
   "codemirror_mode": {
    "name": "ipython",
    "version": 3
   },
   "file_extension": ".py",
   "mimetype": "text/x-python",
   "name": "python",
   "nbconvert_exporter": "python",
   "pygments_lexer": "ipython3",
   "version": "3.6.7"
  }
 },
 "nbformat": 4,
 "nbformat_minor": 2
}
