{
 "cells": [
  {
   "cell_type": "markdown",
   "metadata": {},
   "source": [
    "# Translate image to corresponding alphabhet using pre-trained model"
   ]
  },
  {
   "cell_type": "code",
   "execution_count": 1,
   "metadata": {},
   "outputs": [
    {
     "name": "stderr",
     "output_type": "stream",
     "text": [
      "Using TensorFlow backend.\n"
     ]
    }
   ],
   "source": [
    "import keras\n",
    "from keras.models import Sequential\n",
    "from keras.layers import Dense, Dropout, Flatten, Conv2D, MaxPooling2D\n",
    "from keras.utils.np_utils import to_categorical\n",
    "from keras.utils.vis_utils import plot_model\n",
    "from keras.preprocessing import image\n",
    "import numpy as np\n",
    "import pandas as pd\n",
    "from pathlib import Path\n",
    "import imutils\n",
    "import matplotlib.pyplot as plt\n",
    "import tensorflow as tf\n",
    "import os\n",
    "import cv2\n",
    "%matplotlib inline\n",
    "\n",
    "\n"
   ]
  },
  {
   "cell_type": "code",
   "execution_count": 2,
   "metadata": {},
   "outputs": [],
   "source": [
    "IMAGE_SIZE = 50 #We'll be workign with 50 * 50 pixel images\n",
    "LABELS = [chr(c) for c in range(ord('A'), ord('Z') + 1)]\n",
    "LABELS.append(\"nothing\")\n",
    "LABELS.append(\"space\")\n",
    "\n",
    "MODEL_PATH = \"trained_model\\my_model.h5\""
   ]
  },
  {
   "cell_type": "code",
   "execution_count": 3,
   "metadata": {},
   "outputs": [],
   "source": [
    "from keras.models import load_model\n",
    "model = load_model(MODEL_PATH)"
   ]
  },
  {
   "cell_type": "code",
   "execution_count": null,
   "metadata": {},
   "outputs": [],
   "source": [
    "model.summary()\n",
    "plot_model(model, to_file='model_plot.png', show_shapes=True, show_layer_names=True)"
   ]
  },
  {
   "cell_type": "markdown",
   "metadata": {},
   "source": [
    "#  Visualisation of CNN Model\n"
   ]
  },
  {
   "cell_type": "markdown",
   "metadata": {},
   "source": [
    "<img src = \"model_plot.png\">"
   ]
  },
  {
   "cell_type": "code",
   "execution_count": 4,
   "metadata": {},
   "outputs": [
    {
     "name": "stdout",
     "output_type": "stream",
     "text": [
      "Z\n"
     ]
    }
   ],
   "source": [
    "IMG_PATH = \"test.jpg\"\n",
    "\n",
    "def preprocess_image(IMG_PATH):\n",
    "    \"\"\"returns image array by preprocessing the image\n",
    "    Keyword arguments:\n",
    "    IMG_PATH: path of the image\n",
    "    Example: img_array = preprocess_image(\"a.jpg\")\n",
    "    \"\"\"\n",
    "    try:\n",
    "        #Load image with target size and convert img to array\n",
    "        img = image.load_img(IMG_PATH, target_size = (IMAGE_SIZE,IMAGE_SIZE))\n",
    "        img_array = image.img_to_array(img)\n",
    "       # imutils.resize(img,IMAGE_SIZE,IMAGE_SIZE)\n",
    "        #Change color sapce to gray\n",
    "        img_array = cv2.cvtColor(img_array, cv2.COLOR_BGR2GRAY)\n",
    "\n",
    "        #Reshape array to l * w * channels\n",
    "        img_array = img_array.reshape(IMAGE_SIZE, IMAGE_SIZE, 1)\n",
    "        \n",
    "        #Normalize th array\n",
    "        img_array /= 225.0\n",
    "        \n",
    "        #Expand Dimension of the array as our model expects a 4D array\n",
    "        img_array = np.expand_dims(img_array, axis = 0)\n",
    "        return img_array\n",
    "        \n",
    "    except Exception as e:\n",
    "        print(e)\n",
    "        return None\n",
    "    \n",
    "\n",
    "def which_letter(IMG_PATH):\n",
    "    \"\"\"returns predicted label using the model or None if exception occurs\n",
    "    Keyword arguments:\n",
    "    IMG_PATH: path of the image\n",
    "    eg:\n",
    "        print(which_letter(\"sample.jpeg\"))\n",
    "    \"\"\"\n",
    "    try:\n",
    "        img_array = preprocess_image(IMG_PATH)\n",
    "        preds = model.predict(img_array)\n",
    "        most_likely_class_index = int(np.argmax(preds))\n",
    "        return LABELS[most_likely_class_index]\n",
    "    except Exception as e:\n",
    "        print(e)\n",
    "        return None\n",
    "\n",
    "result = which_letter(IMG_PATH)\n",
    "if result:\n",
    "    print(result)\n"
   ]
  },
  {
   "cell_type": "markdown",
   "metadata": {},
   "source": [
    "# Get Frames from Webcam and translate"
   ]
  },
  {
   "cell_type": "code",
   "execution_count": 5,
   "metadata": {},
   "outputs": [],
   "source": [
    "def getMaxContour(contours, minArea = -1):\n",
    "    maxC = None\n",
    "    maxArea = minArea\n",
    "    for cnt in contours:\n",
    "        area = cv2.contourArea(cnt)\n",
    "        if(area > maxArea):\n",
    "            maxArea = area\n",
    "            maxC = cnt\n",
    "    return maxC\n",
    "\n",
    "cap = cv2.VideoCapture(0)\n",
    "while True:\n",
    "    ret, frame = cap.read()\n",
    "    cv2.rectangle(frame,(0, 0),(320, 480),(255,0,0),3) # bounding box which captures ASL sign to be detected by the system\n",
    "    img1 = frame[0: 480, 0: 320]\n",
    "    img_ycrcb = cv2.cvtColor(img1, cv2.COLOR_BGR2YCR_CB)\n",
    "    blur = cv2.GaussianBlur(img_ycrcb ,(11,11),0)\n",
    "    skin_ycrcb_min = np.array((0, 138, 67))\n",
    "    skin_ycrcb_max = np.array((255, 173, 133))\n",
    "    mask = cv2.inRange(blur, skin_ycrcb_min, skin_ycrcb_max)  # detecting the hand in the bounding box using skin detection\n",
    "    _,contours, _ = cv2.findContours(mask.copy(),cv2.RETR_EXTERNAL, 2) \n",
    "    cnt= getMaxContour(contours, minArea = 2000)\n",
    "    x, y, w, h = cv2.boundingRect(cnt)\n",
    "    if w > 0 and h > 0:\n",
    "        mx = max(w, h, 200)\n",
    "    else:\n",
    "        mx = 0\n",
    "    cv2.rectangle(img1,(x - mx // 3,y),(x + 2 * mx // 3,y + mx),(0,255,0),2)\n",
    "    cv2.imshow(\"frame\",frame)\n",
    "    cv2.imshow('img1', img1)\n",
    "    cv2.imshow(\"mask\", mask)\n",
    "   \n",
    "    hand = img1[y: y + mx, x - mx // 3: x + 2 * mx // 3]\n",
    "\n",
    "        \n",
    "    c = cv2.waitKey(1) & 0xff\n",
    "    if c == 32:\n",
    "         cv2.imwrite(\"test.jpg\", hand)\n",
    "    if c == 27:\n",
    "        break\n",
    "cap.release()\n",
    "cv2.destroyAllWindows()"
   ]
  },
  {
   "cell_type": "code",
   "execution_count": null,
   "metadata": {},
   "outputs": [],
   "source": []
  }
 ],
 "metadata": {
  "kernelspec": {
   "display_name": "Python 3",
   "language": "python",
   "name": "python3"
  },
  "language_info": {
   "codemirror_mode": {
    "name": "ipython",
    "version": 3
   },
   "file_extension": ".py",
   "mimetype": "text/x-python",
   "name": "python",
   "nbconvert_exporter": "python",
   "pygments_lexer": "ipython3",
   "version": "3.6.7"
  }
 },
 "nbformat": 4,
 "nbformat_minor": 2
}
