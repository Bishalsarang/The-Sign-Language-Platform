{
 "cells": [
  {
   "cell_type": "markdown",
   "metadata": {},
   "source": [
    "# Import all required libraries"
   ]
  },
  {
   "cell_type": "code",
   "execution_count": null,
   "metadata": {},
   "outputs": [],
   "source": [
    "import keras\n",
    "from keras.models import Sequential\n",
    "from keras.layers import Dense, Dropout, Flatten, Conv2D, MaxPooling2D\n",
    "from keras.utils.np_utils import to_categorical\n",
    "from keras.preprocessing import image\n",
    "import numpy as np\n",
    "import pandas as pd\n",
    "from pathlib import Path\n",
    "import matplotlib.pyplot as plt\n",
    "import tensorflow as tf\n",
    "import os\n",
    "import cv2\n",
    "%matplotlib inline"
   ]
  },
  {
   "cell_type": "markdown",
   "metadata": {},
   "source": [
    "# Set all required variables"
   ]
  },
  {
   "cell_type": "code",
   "execution_count": null,
   "metadata": {},
   "outputs": [],
   "source": [
    "TRAIN_DATA_PATH = \"datasets/train_data\" \n",
    "#train_data folder has subfolders \"A\" to \"Z\", \"nothing\" and \"space\"\n",
    "#Each subfolder has training images in jpg format\n",
    "\n",
    "TEST_DATA_PATH = \"datasets/test_data\"\n",
    "#test_data folder has subfolders \"A\" to \"Z\", \"nothing\" and \"space\"\n",
    "#Each subfolder has training images in jpg format\n",
    "\n",
    "NUM_OF_LETTERS = 28 # \"A\" to \"Z\" + \"nothing\" + \"space\"\n",
    "IMAGE_SIZE = 50 #We'll be workign with 50 * 50 pixel images\n",
    "NUM_OF_CHANNELS = 1 # Grayscale\n",
    "NUM_OF_TRAIN_IMAGES = 84840 #3030 * 28\n",
    "NUM_OF_TEST_IMAGES = 28\n",
    "NUM_OF_DENSE_LAYER_NODES = (IMAGE_SIZE * IMAGE_SIZE) // 2\n",
    "\n",
    "LABELS = [chr(c) for c in range(ord('A'), ord('Z') + 1)]\n",
    "LABELS.append(\"nothing\")\n",
    "LABELS.append(\"space\")"
   ]
  },
  {
   "cell_type": "markdown",
   "metadata": {},
   "source": [
    "# Creating training and test data from images "
   ]
  },
  {
   "cell_type": "code",
   "execution_count": null,
   "metadata": {},
   "outputs": [],
   "source": [
    "def create_data(DATA_PATH):\n",
    "    \"\"\"returns list of [image_array, label_name].\n",
    "    Keyword arguments:\n",
    "    DATA_PATH -- Path of train/ test data\n",
    "    \"\"\"\n",
    "    \n",
    "    data = []\n",
    "    for label in LABELS:\n",
    "        path = os.path.join(DATA_PATH, label)\n",
    "        label_name = LABELS.index(label)\n",
    "        for img in os.listdir(path):\n",
    "            try:\n",
    "                img_array = cv2.imread(os.path.join(path, img))\n",
    "                img_array = cv2.cvtColor(img_array, cv2.COLOR_BGR2GRAY)\n",
    "                new_img_array = cv2.resize(img_array, (IMAGE_SIZE, IMAGE_SIZE))\n",
    "                data.append([new_img_array, label_name]) #Stores pair as image as array -> corresponding label name \n",
    "            except Exception as e:\n",
    "                pass\n",
    "    return data\n",
    "\n",
    "test_data = create_data(TEST_DATA_PATH)\n",
    "training_data = create_data(TRAIN_DATA_PATH)"
   ]
  },
  {
   "cell_type": "markdown",
   "metadata": {},
   "source": [
    "# Making data sets"
   ]
  },
  {
   "cell_type": "code",
   "execution_count": null,
   "metadata": {},
   "outputs": [],
   "source": [
    "def make_datasets(data):\n",
    "    \"\"\"returns pair of lists of X and y\n",
    "    Keyword arguments:\n",
    "    data -- list of [img_array, label_name]\n",
    "    \"\"\"\n",
    "    x = []\n",
    "    y = []\n",
    "    for features, label in data:\n",
    "        x.append(features)\n",
    "        y.append(label)\n",
    "    return x, y\n",
    "\n",
    "X_train, y_train = make_datasets(training_data)\n",
    "X_test, y_test = make_datasets(test_data)"
   ]
  },
  {
   "cell_type": "markdown",
   "metadata": {},
   "source": [
    "# Convert datasets to numpy arrays"
   ]
  },
  {
   "cell_type": "code",
   "execution_count": null,
   "metadata": {},
   "outputs": [],
   "source": [
    "X_train, y_train = np.array(X_train), np.array(y_train)\n",
    "X_test, y_test = np.array(X_test), np.array(y_test)"
   ]
  },
  {
   "cell_type": "markdown",
   "metadata": {},
   "source": [
    "# Resizing X datasets"
   ]
  },
  {
   "cell_type": "code",
   "execution_count": null,
   "metadata": {},
   "outputs": [],
   "source": [
    "X_train = X_train.reshape(NUM_OF_TRAIN_IMAGES, IMAGE_SIZE , IMAGE_SIZE, NUM_OF_CHANNELS)\n",
    "X_test = X_test.reshape(NUM_OF_TEST_IMAGES, IMAGE_SIZE , IMAGE_SIZE, NUM_OF_CHANNELS)"
   ]
  },
  {
   "cell_type": "markdown",
   "metadata": {},
   "source": [
    "# Normalizing X array as [0, 1]"
   ]
  },
  {
   "cell_type": "code",
   "execution_count": null,
   "metadata": {},
   "outputs": [],
   "source": [
    "X_train = X_train.astype(\"float32\")\n",
    "X_train /= 255.0\n",
    "\n",
    "X_test = X_test.astype(\"float32\")\n",
    "X_test /= 255.0"
   ]
  },
  {
   "cell_type": "markdown",
   "metadata": {},
   "source": [
    "# Resizing Y array using one hot encoding"
   ]
  },
  {
   "cell_type": "code",
   "execution_count": null,
   "metadata": {},
   "outputs": [],
   "source": [
    "y_train = to_categorical(y_train, NUM_OF_LETTERS)\n",
    "y_test = to_categorical(y_test, NUM_OF_LETTERS)"
   ]
  },
  {
   "cell_type": "markdown",
   "metadata": {},
   "source": [
    "# Creating CNN Model"
   ]
  },
  {
   "cell_type": "code",
   "execution_count": null,
   "metadata": {},
   "outputs": [],
   "source": [
    "model = Sequential()\n",
    "\n",
    "model.add(Conv2D(IMAGE_SIZE, (3, 3), padding = \"same\", input_shape = (IMAGE_SIZE, IMAGE_SIZE, NUM_OF_CHANNELS), activation = \"relu\"))\n",
    "model.add(Conv2D(IMAGE_SIZE, (3, 3), activation = \"relu\"))\n",
    "model.add(MaxPooling2D(pool_size = (2, 2)))\n",
    "model.add(Dropout(0.25))\n",
    "\n",
    "model.add(Conv2D(2 * IMAGE_SIZE, (3, 3), padding = \"same\", activation = \"relu\"))\n",
    "model.add(Conv2D(2 * IMAGE_SIZE, (3, 3), activation = \"relu\"))\n",
    "model.add(MaxPooling2D(pool_size = (2, 2)))\n",
    "model.add(Dropout(0.25))\n",
    "\n",
    "model.add(Flatten())\n",
    "\n",
    "model.add(Dense(NUM_OF_DENSE_LAYER_NODES, activation = \"relu\"))\n",
    "model.add(Dropout(0.5))\n",
    "model.add(Dense(NUM_OF_LETTERS, activation = \"softmax\"))"
   ]
  },
  {
   "cell_type": "markdown",
   "metadata": {},
   "source": [
    "# Compiling CNN Model"
   ]
  },
  {
   "cell_type": "code",
   "execution_count": null,
   "metadata": {},
   "outputs": [],
   "source": [
    "model.compile(\n",
    "    optimizer = \"adam\", \n",
    "    loss = \"categorical_crossentropy\", \n",
    "    metrics = [\"accuracy\"]\n",
    ")"
   ]
  },
  {
   "cell_type": "code",
   "execution_count": null,
   "metadata": {},
   "outputs": [],
   "source": [
    "model.summary()"
   ]
  },
  {
   "cell_type": "markdown",
   "metadata": {},
   "source": [
    "# Training Model"
   ]
  },
  {
   "cell_type": "code",
   "execution_count": null,
   "metadata": {
    "scrolled": true
   },
   "outputs": [],
   "source": [
    "history = model.fit(\n",
    "    X_train, \n",
    "    y_train,\n",
    "    batch_size = 32,\n",
    "    epochs = 3,\n",
    "    validation_data = (X_test, y_test),\n",
    "    shuffle = True\n",
    ")"
   ]
  },
  {
   "cell_type": "markdown",
   "metadata": {},
   "source": [
    "# Saving Model and datasets for future use"
   ]
  },
  {
   "cell_type": "code",
   "execution_count": null,
   "metadata": {},
   "outputs": [],
   "source": [
    "#Saving Model\n",
    "from keras.models import load_model\n",
    "model.save('my_model.h5') \n",
    "\n",
    "#Saving Data\n",
    "np.save(\"X_train.npy\", X_train)\n",
    "np.save(\"y_train.npy\", y_train)\n",
    "np.save(\"X_test.npy\", X_test)\n",
    "np.save(\"y_test.npy\", y_test)"
   ]
  },
  {
   "cell_type": "markdown",
   "metadata": {},
   "source": [
    "# Calculating Test Score"
   ]
  },
  {
   "cell_type": "code",
   "execution_count": null,
   "metadata": {},
   "outputs": [],
   "source": [
    "score = model.evaluate(X_test, y_test)\n",
    "score"
   ]
  },
  {
   "cell_type": "markdown",
   "metadata": {},
   "source": [
    "# Recognizing equivalent alphabet from input image"
   ]
  },
  {
   "cell_type": "code",
   "execution_count": null,
   "metadata": {
    "scrolled": false
   },
   "outputs": [],
   "source": [
    "IMG_PATH = \"tesy5.jpg\"\n",
    "def which_letter(IMG_PATH):\n",
    "    img_array = cv2.imread(IMG_PATH)\n",
    "    img_array = cv2.cvtColor(img_array, cv2.COLOR_BGR2GRAY)\n",
    "    new_img_array = cv2.resize(img_array, (IMAGE_SIZE, IMAGE_SIZE))\n",
    "    plt.imshow(new_img_array)\n",
    "    new_img_array = new_img_array.reshape(50, 50, 1)\n",
    "    list_of_images = np.expand_dims(new_img_array, axis = 0)\n",
    "    results = model.predict(list_of_images)\n",
    "    single_result = results[0]\n",
    "    most_likely_class_index = int(np.argmax(single_result))\n",
    "    class_likely_hood = single_result[most_likely_class_index]\n",
    "    return LABELS[most_likely_class_index]\n",
    "\n",
    "print(which_letter(IMG_PATH))"
   ]
  }
 ],
 "metadata": {
  "kernelspec": {
   "display_name": "Python 3",
   "language": "python",
   "name": "python3"
  },
  "language_info": {
   "codemirror_mode": {
    "name": "ipython",
    "version": 3
   },
   "file_extension": ".py",
   "mimetype": "text/x-python",
   "name": "python",
   "nbconvert_exporter": "python",
   "pygments_lexer": "ipython3",
   "version": "3.6.7"
  }
 },
 "nbformat": 4,
 "nbformat_minor": 2
}
