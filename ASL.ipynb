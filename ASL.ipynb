{
 "cells": [
  {
   "cell_type": "markdown",
   "metadata": {},
   "source": [
    "# Import all required libraries"
   ]
  },
  {
   "cell_type": "code",
   "execution_count": 15,
   "metadata": {},
   "outputs": [],
   "source": [
    "import keras\n",
    "from keras.models import Sequential\n",
    "from keras.layers import Dense, Dropout, Flatten, Conv2D, MaxPooling2D\n",
    "from keras.utils.np_utils import to_categorical\n",
    "from keras.utils.vis_utils import plot_model\n",
    "from keras.preprocessing import image\n",
    "import numpy as np\n",
    "import imutils\n",
    "import matplotlib.pyplot as plt\n",
    "import os\n",
    "import cv2\n",
    "%matplotlib inline"
   ]
  },
  {
   "cell_type": "markdown",
   "metadata": {},
   "source": [
    "# Set all required variables"
   ]
  },
  {
   "cell_type": "code",
   "execution_count": 16,
   "metadata": {},
   "outputs": [
    {
     "name": "stdout",
     "output_type": "stream",
     "text": [
      "10\n"
     ]
    }
   ],
   "source": [
    "TRAIN_DATA_PATH = \"datasets/train_data\" \n",
    "#train_data folder has subfolders \"A\" to \"Z\", \"nothing\" and \"space\"\n",
    "#Each subfolder has training images in jpg format\n",
    "\n",
    "TEST_DATA_PATH = \"datasets/test_data\"\n",
    "#test_data folder has subfolders \"A\" to \"Z\", \"nothing\" and \"space\"\n",
    "#Each subfolder has training images in jpg format\n",
    "\n",
    "NUM_OF_LETTERS = 10 # \"A\" to \"Z\" + \"nothing\" + \"space\"\n",
    "IMAGE_SIZE = 50 #We'll be workign with 50 * 50 pixel images\n",
    "NUM_OF_CHANNELS = 1 # Grayscale\n",
    "NUM_OF_TRAIN_IMAGES = 2000 * NUM_OF_LETTERS \n",
    "NUM_OF_TEST_IMAGES = NUM_OF_LETTERS\n",
    "NUM_OF_DENSE_LAYER_NODES = (IMAGE_SIZE * IMAGE_SIZE) // 2\n",
    "\n",
    "\n",
    "#to_remove = [\"V\", \"S\", \"J\", \"Z\", \"N\"] # nothing, space\n",
    "LABELS = ['A', 'C', 'E', 'H', 'I', 'L', 'O', 'U', 'V', 'W']\n",
    "print(len(LABELS))"
   ]
  },
  {
   "cell_type": "markdown",
   "metadata": {},
   "source": [
    "# Creating training and test data from images "
   ]
  },
  {
   "cell_type": "code",
   "execution_count": 17,
   "metadata": {},
   "outputs": [
    {
     "name": "stdout",
     "output_type": "stream",
     "text": [
      "20000\n"
     ]
    }
   ],
   "source": [
    "\n",
    "def create_data(DATA_PATH):\n",
    "    \"\"\"returns list of [image_array, label_name].\n",
    "    Keyword arguments:\n",
    "    DATA_PATH -- Path of train/ test data\n",
    "    \"\"\"\n",
    "    data = []\n",
    "    for label in LABELS:\n",
    "    \n",
    "        \n",
    "        path = os.path.join(DATA_PATH, label)\n",
    "        label_name = LABELS.index(label)\n",
    "        for img in os.listdir(path):\n",
    "            \n",
    "            try:\n",
    "                img_array = cv2.imread(os.path.join(path, img))\n",
    "                img_array = cv2.cvtColor(img_array, cv2.COLOR_BGR2GRAY)\n",
    "                img_array = cv2.resize(img_array, (IMAGE_SIZE, IMAGE_SIZE))\n",
    "                #img_array = imutils.resize(img_array, width = IMAGE_SIZE, height = IMAGE_SIZE)\n",
    "                data.append([img_array, label_name]) #Stores pair as image as array -> corresponding label name \n",
    "            except Exception as e:\n",
    "                pass\n",
    "     \n",
    "    return data\n",
    "\n",
    "test_data = create_data(TEST_DATA_PATH)\n",
    "training_data = create_data(TRAIN_DATA_PATH)\n",
    "print(len(training_data))"
   ]
  },
  {
   "cell_type": "markdown",
   "metadata": {},
   "source": [
    "# Making data sets"
   ]
  },
  {
   "cell_type": "code",
   "execution_count": 18,
   "metadata": {},
   "outputs": [
    {
     "name": "stdout",
     "output_type": "stream",
     "text": [
      "20000\n"
     ]
    }
   ],
   "source": [
    "def make_datasets(data):\n",
    "    \"\"\"returns pair of lists of X and y\n",
    "    Keyword arguments:\n",
    "    data -- list of [img_array, label_name]\n",
    "    \"\"\"\n",
    "    x = []\n",
    "    y = []\n",
    "    for features, label in data:\n",
    "        x.append(features)\n",
    "        y.append(label)\n",
    "    return x, y\n",
    "\n",
    "X_train, y_train = make_datasets(training_data)\n",
    "X_test, y_test = make_datasets(test_data)\n",
    "print(len(X_train))"
   ]
  },
  {
   "cell_type": "markdown",
   "metadata": {},
   "source": [
    "# Convert datasets to numpy arrays"
   ]
  },
  {
   "cell_type": "code",
   "execution_count": 19,
   "metadata": {},
   "outputs": [],
   "source": [
    "X_train, y_train = np.array(X_train), np.array(y_train)\n",
    "X_test, y_test = np.array(X_test), np.array(y_test)\n"
   ]
  },
  {
   "cell_type": "markdown",
   "metadata": {},
   "source": [
    "# Resizing X datasets"
   ]
  },
  {
   "cell_type": "code",
   "execution_count": 20,
   "metadata": {},
   "outputs": [
    {
     "name": "stdout",
     "output_type": "stream",
     "text": [
      "(20000, 50, 50, 1)\n"
     ]
    }
   ],
   "source": [
    "X_train = X_train.reshape(NUM_OF_TRAIN_IMAGES, IMAGE_SIZE , IMAGE_SIZE, NUM_OF_CHANNELS)\n",
    "X_test = X_test.reshape(NUM_OF_TEST_IMAGES, IMAGE_SIZE , IMAGE_SIZE, NUM_OF_CHANNELS)\n",
    "print(X_train.shape)"
   ]
  },
  {
   "cell_type": "markdown",
   "metadata": {},
   "source": [
    "# Normalizing X array as [0, 1]"
   ]
  },
  {
   "cell_type": "code",
   "execution_count": 21,
   "metadata": {},
   "outputs": [],
   "source": [
    "X_train = X_train.astype(\"float32\")\n",
    "X_train /= 255.0\n",
    "\n",
    "X_test = X_test.astype(\"float32\")\n",
    "X_test /= 255.0"
   ]
  },
  {
   "cell_type": "markdown",
   "metadata": {},
   "source": [
    "# Resizing Y array using one hot encoding"
   ]
  },
  {
   "cell_type": "code",
   "execution_count": 22,
   "metadata": {},
   "outputs": [
    {
     "name": "stdout",
     "output_type": "stream",
     "text": [
      "(20000, 50, 50, 1)\n"
     ]
    }
   ],
   "source": [
    "y_train = to_categorical(y_train, NUM_OF_LETTERS)\n",
    "y_test = to_categorical(y_test, NUM_OF_LETTERS)\n",
    "print(X_train.shape)"
   ]
  },
  {
   "cell_type": "markdown",
   "metadata": {},
   "source": [
    "# Creating CNN Model"
   ]
  },
  {
   "cell_type": "code",
   "execution_count": 23,
   "metadata": {},
   "outputs": [],
   "source": [
    "model = Sequential()\n",
    "\n",
    "model.add(Conv2D(IMAGE_SIZE, (3, 3), padding = \"same\", input_shape = (IMAGE_SIZE, IMAGE_SIZE, NUM_OF_CHANNELS), activation = \"relu\"))\n",
    "model.add(Conv2D(IMAGE_SIZE, (3, 3), activation = \"relu\"))\n",
    "model.add(MaxPooling2D(pool_size = (2, 2)))\n",
    "model.add(Dropout(0.25))\n",
    "\n",
    "model.add(Conv2D(2 * IMAGE_SIZE, (3, 3), padding = \"same\", activation = \"relu\"))\n",
    "model.add(Conv2D(2 * IMAGE_SIZE, (3, 3), activation = \"relu\"))\n",
    "model.add(MaxPooling2D(pool_size = (2, 2)))\n",
    "model.add(Dropout(0.25))\n",
    "\n",
    "model.add(Flatten())\n",
    "\n",
    "model.add(Dense(NUM_OF_DENSE_LAYER_NODES, activation = \"relu\"))\n",
    "model.add(Dropout(0.5))\n",
    "model.add(Dense(NUM_OF_LETTERS, activation = \"softmax\"))"
   ]
  },
  {
   "cell_type": "markdown",
   "metadata": {},
   "source": [
    "# Compiling CNN Model"
   ]
  },
  {
   "cell_type": "code",
   "execution_count": 24,
   "metadata": {},
   "outputs": [],
   "source": [
    "model.compile(\n",
    "    optimizer = \"adam\", \n",
    "    loss = \"categorical_crossentropy\", \n",
    "    metrics = [\"accuracy\"]\n",
    ")"
   ]
  },
  {
   "cell_type": "code",
   "execution_count": 11,
   "metadata": {},
   "outputs": [
    {
     "name": "stdout",
     "output_type": "stream",
     "text": [
      "_________________________________________________________________\n",
      "Layer (type)                 Output Shape              Param #   \n",
      "=================================================================\n",
      "conv2d_1 (Conv2D)            (None, 50, 50, 50)        500       \n",
      "_________________________________________________________________\n",
      "conv2d_2 (Conv2D)            (None, 48, 48, 50)        22550     \n",
      "_________________________________________________________________\n",
      "max_pooling2d_1 (MaxPooling2 (None, 24, 24, 50)        0         \n",
      "_________________________________________________________________\n",
      "dropout_1 (Dropout)          (None, 24, 24, 50)        0         \n",
      "_________________________________________________________________\n",
      "conv2d_3 (Conv2D)            (None, 24, 24, 100)       45100     \n",
      "_________________________________________________________________\n",
      "conv2d_4 (Conv2D)            (None, 22, 22, 100)       90100     \n",
      "_________________________________________________________________\n",
      "max_pooling2d_2 (MaxPooling2 (None, 11, 11, 100)       0         \n",
      "_________________________________________________________________\n",
      "dropout_2 (Dropout)          (None, 11, 11, 100)       0         \n",
      "_________________________________________________________________\n",
      "flatten_1 (Flatten)          (None, 12100)             0         \n",
      "_________________________________________________________________\n",
      "dense_1 (Dense)              (None, 1250)              15126250  \n",
      "_________________________________________________________________\n",
      "dropout_3 (Dropout)          (None, 1250)              0         \n",
      "_________________________________________________________________\n",
      "dense_2 (Dense)              (None, 10)                12510     \n",
      "=================================================================\n",
      "Total params: 15,297,010\n",
      "Trainable params: 15,297,010\n",
      "Non-trainable params: 0\n",
      "_________________________________________________________________\n"
     ]
    }
   ],
   "source": [
    "model.summary()\n",
    "\n",
    "#Saving Model Diagram\n",
    "plot_model(model, to_file='model_plot.png', show_shapes = True, show_layer_names = True)"
   ]
  },
  {
   "cell_type": "markdown",
   "metadata": {},
   "source": [
    "# Training Model"
   ]
  },
  {
   "cell_type": "code",
   "execution_count": 25,
   "metadata": {
    "scrolled": true
   },
   "outputs": [
    {
     "name": "stdout",
     "output_type": "stream",
     "text": [
      "Train on 20000 samples, validate on 10 samples\n",
      "Epoch 1/5\n",
      "20000/20000 [==============================] - 1083s 54ms/step - loss: 0.3457 - acc: 0.8828 - val_loss: 8.0589 - val_acc: 0.4000\n",
      "Epoch 2/5\n",
      "20000/20000 [==============================] - 1048s 52ms/step - loss: 0.0318 - acc: 0.9896 - val_loss: 6.4529 - val_acc: 0.4000\n",
      "Epoch 3/5\n",
      "20000/20000 [==============================] - 998s 50ms/step - loss: 0.0174 - acc: 0.9943 - val_loss: 6.1044 - val_acc: 0.5000\n",
      "Epoch 4/5\n",
      "20000/20000 [==============================] - 921s 46ms/step - loss: 0.0130 - acc: 0.9963 - val_loss: 6.0370 - val_acc: 0.4000\n",
      "Epoch 5/5\n",
      "20000/20000 [==============================] - 935s 47ms/step - loss: 0.0163 - acc: 0.9950 - val_loss: 6.6777 - val_acc: 0.5000\n"
     ]
    }
   ],
   "source": [
    "history = model.fit(\n",
    "    X_train, \n",
    "    y_train, \n",
    "    batch_size = 32,\n",
    "    epochs = 5,\n",
    "    validation_data = (X_test, y_test),\n",
    "    shuffle = True\n",
    ")"
   ]
  },
  {
   "cell_type": "markdown",
   "metadata": {},
   "source": [
    "# Saving Model and datasets for future use"
   ]
  },
  {
   "cell_type": "code",
   "execution_count": 26,
   "metadata": {},
   "outputs": [],
   "source": [
    "#Saving Model\n",
    "from keras.models import load_model\n",
    "model.save('withbgmodelv1.h5') \n",
    "\n",
    "\n",
    "\n",
    "#Saving Data\n",
    "np.save(\"X_train.npy\", X_train)\n",
    "np.save(\"y_train.npy\", y_train)\n",
    "np.save(\"X_test.npy\", X_test)\n",
    "np.save(\"y_test.npy\", y_test)"
   ]
  },
  {
   "cell_type": "markdown",
   "metadata": {},
   "source": [
    "# Calculating Test Score"
   ]
  },
  {
   "cell_type": "code",
   "execution_count": null,
   "metadata": {},
   "outputs": [],
   "source": [
    "score = model.evaluate(X_test, y_test)\n",
    "print(score[0])\n",
    "print(score[1])"
   ]
  }
 ],
 "metadata": {
  "kernelspec": {
   "display_name": "Python 3",
   "language": "python",
   "name": "python3"
  },
  "language_info": {
   "codemirror_mode": {
    "name": "ipython",
    "version": 3
   },
   "file_extension": ".py",
   "mimetype": "text/x-python",
   "name": "python",
   "nbconvert_exporter": "python",
   "pygments_lexer": "ipython3",
   "version": "3.6.7"
  }
 },
 "nbformat": 4,
 "nbformat_minor": 2
}
